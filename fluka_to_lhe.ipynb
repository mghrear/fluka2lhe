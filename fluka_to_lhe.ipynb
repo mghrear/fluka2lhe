{
 "cells": [
  {
   "cell_type": "code",
   "execution_count": 1,
   "id": "0f1e91cb",
   "metadata": {},
   "outputs": [],
   "source": [
    "import numpy as np\n",
    "import pandas as pd \n",
    "import matplotlib.pyplot as plt\n",
    "import Fluka_dump_tools as fdt\n"
   ]
  },
  {
   "cell_type": "code",
   "execution_count": 2,
   "id": "9fd33c72",
   "metadata": {},
   "outputs": [],
   "source": [
    "N_files = 50\n",
    "Energy = 4550\n",
    "Rseed = 0\n",
    "\n",
    "fluka_dir = '/Users/mghrear/Lab/HPS/fluka/'+str(Energy)+'MeV_userdump_s'+str(Rseed)+'/'"
   ]
  },
  {
   "cell_type": "code",
   "execution_count": 3,
   "id": "a65d637c",
   "metadata": {},
   "outputs": [
    {
     "data": {
      "text/html": [
       "<div>\n",
       "<style scoped>\n",
       "    .dataframe tbody tr th:only-of-type {\n",
       "        vertical-align: middle;\n",
       "    }\n",
       "\n",
       "    .dataframe tbody tr th {\n",
       "        vertical-align: top;\n",
       "    }\n",
       "\n",
       "    .dataframe thead th {\n",
       "        text-align: right;\n",
       "    }\n",
       "</style>\n",
       "<table border=\"1\" class=\"dataframe\">\n",
       "  <thead>\n",
       "    <tr style=\"text-align: right;\">\n",
       "      <th></th>\n",
       "      <th>ProjID</th>\n",
       "      <th>ProjkE</th>\n",
       "      <th>ProjdirX</th>\n",
       "      <th>ProjdirY</th>\n",
       "      <th>ProjdirZ</th>\n",
       "      <th>Gen_No</th>\n",
       "      <th>IntID</th>\n",
       "      <th>NoSecondary</th>\n",
       "      <th>IDs</th>\n",
       "      <th>Ps</th>\n",
       "      <th>Xs</th>\n",
       "      <th>Ys</th>\n",
       "      <th>Zs</th>\n",
       "    </tr>\n",
       "  </thead>\n",
       "  <tbody>\n",
       "    <tr>\n",
       "      <th>0</th>\n",
       "      <td>7</td>\n",
       "      <td>4.240412</td>\n",
       "      <td>0.000148</td>\n",
       "      <td>0.000423</td>\n",
       "      <td>1.0</td>\n",
       "      <td>2</td>\n",
       "      <td>101</td>\n",
       "      <td>18</td>\n",
       "      <td>[1, 8, 16, 23, 8, 23, 15, 8, 8, 8, 8, 7, 7, 7,...</td>\n",
       "      <td>[0.3908183128574961, 0.5829781480118803, 1.118...</td>\n",
       "      <td>[-0.47165277413042467, 0.8179916855922268, 0.3...</td>\n",
       "      <td>[-0.854948210703991, -0.5285583124856388, -0.0...</td>\n",
       "      <td>[0.21588704840522258, 0.2269707307216539, 0.91...</td>\n",
       "    </tr>\n",
       "    <tr>\n",
       "      <th>1</th>\n",
       "      <td>7</td>\n",
       "      <td>4.071699</td>\n",
       "      <td>0.000013</td>\n",
       "      <td>0.000065</td>\n",
       "      <td>1.0</td>\n",
       "      <td>3</td>\n",
       "      <td>101</td>\n",
       "      <td>25</td>\n",
       "      <td>[1, 1, 1, 1, 14, 15, 16, 1, 8, 8, 8, 8, 8, 8, ...</td>\n",
       "      <td>[0.24691755171331217, 0.18069759387837567, 0.6...</td>\n",
       "      <td>[0.4814910974118118, 0.38495009761644056, -0.9...</td>\n",
       "      <td>[-0.8757855290728752, -0.7186332699888872, -0....</td>\n",
       "      <td>[-0.03414718406711062, 0.5791197161297239, 0.2...</td>\n",
       "    </tr>\n",
       "    <tr>\n",
       "      <th>2</th>\n",
       "      <td>7</td>\n",
       "      <td>4.251282</td>\n",
       "      <td>0.000689</td>\n",
       "      <td>-0.000299</td>\n",
       "      <td>1.0</td>\n",
       "      <td>2</td>\n",
       "      <td>101</td>\n",
       "      <td>2</td>\n",
       "      <td>[16, 15]</td>\n",
       "      <td>[1.5960068402790952, 2.5329512356640125]</td>\n",
       "      <td>[0.05931300347275108, -0.004035125042148872]</td>\n",
       "      <td>[-0.005357980556067097, -0.014527270285604696]</td>\n",
       "      <td>[0.998225054616143, 0.9998863316317225]</td>\n",
       "    </tr>\n",
       "    <tr>\n",
       "      <th>3</th>\n",
       "      <td>7</td>\n",
       "      <td>4.274010</td>\n",
       "      <td>0.000066</td>\n",
       "      <td>0.000073</td>\n",
       "      <td>1.0</td>\n",
       "      <td>2</td>\n",
       "      <td>101</td>\n",
       "      <td>13</td>\n",
       "      <td>[15, 23, 16, 8, 8, 7, 7, 7, 7, 7, 7, 7, 7]</td>\n",
       "      <td>[2.3925339289633953, 0.26391768049646974, 1.15...</td>\n",
       "      <td>[-0.07422708108356837, -0.04153275929582887, 0...</td>\n",
       "      <td>[0.11404050861247239, 0.018352163128749, 0.068...</td>\n",
       "      <td>[0.9906992999034682, 0.9989685820954384, 0.892...</td>\n",
       "    </tr>\n",
       "    <tr>\n",
       "      <th>4</th>\n",
       "      <td>7</td>\n",
       "      <td>4.542153</td>\n",
       "      <td>-0.000193</td>\n",
       "      <td>0.000249</td>\n",
       "      <td>1.0</td>\n",
       "      <td>2</td>\n",
       "      <td>101</td>\n",
       "      <td>16</td>\n",
       "      <td>[8, 15, 23, 1, 16, 8, 8, 8, 8, 8, 8, 8, 7, 7, ...</td>\n",
       "      <td>[0.26660885438429827, 0.31592960103924317, 0.9...</td>\n",
       "      <td>[-0.12843338350800373, -0.06650440488961207, 0...</td>\n",
       "      <td>[-0.057154651081758774, 0.2689007365872765, 0....</td>\n",
       "      <td>[0.9900698015091706, 0.9608691679896377, 0.813...</td>\n",
       "    </tr>\n",
       "  </tbody>\n",
       "</table>\n",
       "</div>"
      ],
      "text/plain": [
       "   ProjID    ProjkE  ProjdirX  ProjdirY  ProjdirZ  Gen_No  IntID  NoSecondary  \\\n",
       "0       7  4.240412  0.000148  0.000423       1.0       2    101           18   \n",
       "1       7  4.071699  0.000013  0.000065       1.0       3    101           25   \n",
       "2       7  4.251282  0.000689 -0.000299       1.0       2    101            2   \n",
       "3       7  4.274010  0.000066  0.000073       1.0       2    101           13   \n",
       "4       7  4.542153 -0.000193  0.000249       1.0       2    101           16   \n",
       "\n",
       "                                                 IDs  \\\n",
       "0  [1, 8, 16, 23, 8, 23, 15, 8, 8, 8, 8, 7, 7, 7,...   \n",
       "1  [1, 1, 1, 1, 14, 15, 16, 1, 8, 8, 8, 8, 8, 8, ...   \n",
       "2                                           [16, 15]   \n",
       "3         [15, 23, 16, 8, 8, 7, 7, 7, 7, 7, 7, 7, 7]   \n",
       "4  [8, 15, 23, 1, 16, 8, 8, 8, 8, 8, 8, 8, 7, 7, ...   \n",
       "\n",
       "                                                  Ps  \\\n",
       "0  [0.3908183128574961, 0.5829781480118803, 1.118...   \n",
       "1  [0.24691755171331217, 0.18069759387837567, 0.6...   \n",
       "2           [1.5960068402790952, 2.5329512356640125]   \n",
       "3  [2.3925339289633953, 0.26391768049646974, 1.15...   \n",
       "4  [0.26660885438429827, 0.31592960103924317, 0.9...   \n",
       "\n",
       "                                                  Xs  \\\n",
       "0  [-0.47165277413042467, 0.8179916855922268, 0.3...   \n",
       "1  [0.4814910974118118, 0.38495009761644056, -0.9...   \n",
       "2       [0.05931300347275108, -0.004035125042148872]   \n",
       "3  [-0.07422708108356837, -0.04153275929582887, 0...   \n",
       "4  [-0.12843338350800373, -0.06650440488961207, 0...   \n",
       "\n",
       "                                                  Ys  \\\n",
       "0  [-0.854948210703991, -0.5285583124856388, -0.0...   \n",
       "1  [-0.8757855290728752, -0.7186332699888872, -0....   \n",
       "2     [-0.005357980556067097, -0.014527270285604696]   \n",
       "3  [0.11404050861247239, 0.018352163128749, 0.068...   \n",
       "4  [-0.057154651081758774, 0.2689007365872765, 0....   \n",
       "\n",
       "                                                  Zs  \n",
       "0  [0.21588704840522258, 0.2269707307216539, 0.91...  \n",
       "1  [-0.03414718406711062, 0.5791197161297239, 0.2...  \n",
       "2            [0.998225054616143, 0.9998863316317225]  \n",
       "3  [0.9906992999034682, 0.9989685820954384, 0.892...  \n",
       "4  [0.9900698015091706, 0.9608691679896377, 0.813...  "
      ]
     },
     "execution_count": 3,
     "metadata": {},
     "output_type": "execute_result"
    }
   ],
   "source": [
    "# Convert fluka dump files into pandas dataframes\n",
    "fdt.FlukaDump_toPandas(fluka_dir, N_files, Energy)\n",
    "\n",
    "#loop through saved pkl files and append them to a single DataFrame\n",
    "df = pd.DataFrame()\n",
    "for i in np.arange(1,N_files+1,1):\n",
    "    i = str(i).zfill(3)\n",
    "    file_name = fluka_dir+\"phiKK_\"+str(Energy)+ i + \".pkl\"\n",
    "    temp_df = pd.read_pickle(file_name)\n",
    "    df = pd.concat([df, temp_df], ignore_index=True)\n",
    "df.head()"
   ]
  },
  {
   "cell_type": "code",
   "execution_count": 4,
   "id": "a0965138",
   "metadata": {},
   "outputs": [],
   "source": [
    "# Keep only 2nd gen events, starting with a photon, with one K+ and one K- secondaries\n",
    "df['Kflag'] = df.IDs.apply(lambda x: np.count_nonzero(x == 16) == 1)\n",
    "df['Kflag2'] = df.IDs.apply(lambda x: np.count_nonzero(x == 15) == 1)\n",
    "df_phiKK = df.loc[(df.Kflag == True)&(df.Kflag2 == True) &(df.Gen_No == 2)&(df.ProjID == 7)  ].reset_index(drop=True)\n"
   ]
  },
  {
   "cell_type": "code",
   "execution_count": 5,
   "id": "10b4f99e",
   "metadata": {},
   "outputs": [],
   "source": [
    "# mass of kaon\n",
    "mK = 0.493677\n",
    "\n",
    "# Get the momentum and energy of the kaons\n",
    "df_phiKK['PKm'] = df_phiKK.apply(lambda row: np.array([row.Xs[row.IDs == 16].item(),row.Ys[row.IDs == 16].item(),row.Zs[row.IDs == 16].item()])*row.Ps[row.IDs == 16].item() , axis=1)\n",
    "df_phiKK['PKp'] = df_phiKK.apply(lambda row: np.array([row.Xs[row.IDs == 15].item(),row.Ys[row.IDs == 15].item(),row.Zs[row.IDs == 15].item()])*row.Ps[row.IDs == 15].item() , axis=1)\n",
    "df_phiKK['EKm'] = df_phiKK.apply(lambda row: mK/np.sqrt(1-( row.Ps[row.IDs == 16].item()**2 / ( mK**2 + row.Ps[row.IDs == 16].item()**2 ) )) , axis=1)\n",
    "df_phiKK['EKp'] = df_phiKK.apply(lambda row: mK/np.sqrt(1-( row.Ps[row.IDs == 15].item()**2 / ( mK**2 + row.Ps[row.IDs == 15].item()**2 ) )) , axis=1)\n",
    "\n",
    "# Calculate the invariant mass \n",
    "df_phiKK['M']= df_phiKK.apply(lambda row: np.sqrt((row.EKp+row.EKm)**2 - (row.PKm+row.PKp).dot(row.PKm+row.PKp)) , axis=1)\n",
    "\n"
   ]
  },
  {
   "cell_type": "code",
   "execution_count": 6,
   "id": "09adc171",
   "metadata": {},
   "outputs": [
    {
     "data": {
      "text/plain": [
       "Text(0, 0.5, 'Counts')"
      ]
     },
     "execution_count": 6,
     "metadata": {},
     "output_type": "execute_result"
    },
    {
     "data": {
      "image/png": "[encoded data removed]",
      "text/plain": [
       "<Figure size 640x480 with 1 Axes>"
      ]
     },
     "metadata": {},
     "output_type": "display_data"
    }
   ],
   "source": [
    "# mass of the phi meson\n",
    "m_phi = 1.019455\n",
    "\n",
    "df_phiKK.M.hist(bins=np.arange(0.95, 1.5, 0.003), edgecolor='black', linewidth=0.5, alpha=0.7)\n",
    "plt.axvline(m_phi, color='red', linestyle='dashed', linewidth=1, label='m_phi = 1.019455 GeV/c^2')\n",
    "plt.legend()\n",
    "plt.xlabel(\"Invariant Mass (GeV/c^2)\")\n",
    "plt.ylabel(\"Counts\") \n"
   ]
  },
  {
   "cell_type": "code",
   "execution_count": 7,
   "id": "3a08da33",
   "metadata": {},
   "outputs": [],
   "source": [
    "df_phiKK[\"PPhi\"]=df_phiKK.apply(lambda row: row.PKm+row.PKp, axis=1)\n",
    "df_phiKK[\"EPhi\"]=df_phiKK.apply(lambda row: row.EKm+row.EKp, axis=1)"
   ]
  },
  {
   "cell_type": "code",
   "execution_count": 8,
   "id": "63d5e8c5",
   "metadata": {},
   "outputs": [
    {
     "data": {
      "text/plain": [
       "Text(0, 0.5, 'counts')"
      ]
     },
     "execution_count": 8,
     "metadata": {},
     "output_type": "execute_result"
    },
    {
     "data": {
      "image/png": "[encoded data removed]",
      "text/plain": [
       "<Figure size 640x480 with 1 Axes>"
      ]
     },
     "metadata": {},
     "output_type": "display_data"
    }
   ],
   "source": [
    "df_phiKK.EPhi.hist(bins =  np.arange(0.9,4.8,0.1), edgecolor='black', linewidth=0.5, alpha=0.7)\n",
    "plt.xlabel(\"Phi Energy [GeV]\")\n",
    "plt.ylabel(\"counts\")"
   ]
  },
  {
   "cell_type": "code",
   "execution_count": 9,
   "id": "d68ca287",
   "metadata": {},
   "outputs": [
    {
     "name": "stderr",
     "output_type": "stream",
     "text": [
      "/var/folders/fx/czrkltw953xcpcjd85tf2tmm0000gn/T/ipykernel_74012/2591282786.py:4: UserWarning: No artists with labels found to put in legend.  Note that artists whose label start with an underscore are ignored when legend() is called with no argument.\n",
      "  plt.legend()\n"
     ]
    },
    {
     "data": {
      "text/plain": [
       "Text(0, 0.5, 'Counts')"
      ]
     },
     "execution_count": 9,
     "metadata": {},
     "output_type": "execute_result"
    },
    {
     "data": {
      "image/png": "[encoded data removed]",
      "text/plain": [
       "<Figure size 640x480 with 1 Axes>"
      ]
     },
     "metadata": {},
     "output_type": "display_data"
    }
   ],
   "source": [
    "df_phiKK.M.hist(bins=np.arange(0.97, 1.05, 0.003), edgecolor='black', linewidth=0.5, alpha=0.7)\n",
    "plt.axvline(1.00, color='red', linestyle='dashed', linewidth=1)\n",
    "plt.axvline(1.04, color='red', linestyle='dashed', linewidth=1)\n",
    "plt.legend()\n",
    "plt.xlabel(\"Invariant Mass (GeV/c^2)\")\n",
    "plt.ylabel(\"Counts\") \n"
   ]
  },
  {
   "cell_type": "code",
   "execution_count": 10,
   "id": "0149ff37",
   "metadata": {},
   "outputs": [],
   "source": [
    "# Get all the fluka IDs for the secondary particles\n",
    "unique_fluka_ids_df = df_phiKK.explode('IDs')['IDs'].unique()\n",
    "\n",
    "# Get PDG ID, Mass [GeV], and Charge from fluka particle ID\n",
    "fluka_info = {\n",
    "    1: (2212, 0.938, 1),      # (PDG ID, Mass [GeV], Charge)\n",
    "    3: (11, 0.000511, -1),\n",
    "    4: (-11, 0.000511, 1),\n",
    "    7: (22, 0, 0),\n",
    "    8: (2112, 0.9396, 0),\n",
    "    12: (130, 0.497611 , 0),\n",
    "    13: (211, 0.13957, 1),\n",
    "    14: (-211, 0.13957, -1),\n",
    "    15: (321, 0.4937, 1),\n",
    "    16: (-321, 0.4937, -1),\n",
    "    17: (3122, 1.1156, 0),\n",
    "    19: (310, 0.497648, 0),\n",
    "    20: (3112, 1.19734, -1),\n",
    "    21: (3222, 1.189, 1),\n",
    "    22: (3212, 1.1926, 0),\n",
    "    23: (111, 0.13498, 0),\n",
    "    24: (311, 0.4977, 0),\n",
    "    25: (-311, 0.497648, 0)\n",
    "}\n",
    "\n",
    "# Function to convert FLUKA IDs to PDG IDs, masses, and charges\n",
    "def convert_fluka_ids(ids):\n",
    "    pdg_ids = []\n",
    "    masses = []\n",
    "    charges = []\n",
    "    for id in ids:\n",
    "        info = fluka_info.get(id, (None, None, None))  # Get tuple or a default tuple (None, None, None)\n",
    "        pdg_ids.append(info[0])  # PDG ID\n",
    "        masses.append(info[1])    # Mass\n",
    "        charges.append(info[2])   # Charge\n",
    "    return np.array(pdg_ids), np.array(masses), np.array(charges)\n",
    "\n",
    "keys_view = fluka_info.keys()  # Get the view object\n",
    "keys_list = np.array(list(keys_view))\n",
    "\n",
    "missing_keys = np.setdiff1d(unique_fluka_ids_df, keys_list)\n",
    "\n",
    "if len(missing_keys) > 0:\n",
    "    print(\"Error add the following fluka IDs to the fluka_info dictionary: \", missing_keys)\n",
    "\n",
    "else:\n",
    "    # Apply the conversion and create new columns\n",
    "    df_phiKK[['PDG_IDs', 'Sec_mass', 'Sec_charge']] = df_phiKK['IDs'].apply(convert_fluka_ids).apply(pd.Series)"
   ]
  },
  {
   "cell_type": "code",
   "execution_count": 11,
   "id": "0e121233",
   "metadata": {},
   "outputs": [],
   "source": [
    "# Filter for only Elastic photoproduction\n",
    "#df_phiKK=df_phiKK.loc[df_phiKK.NoSecondary==2].reset_index(drop=True)\n",
    "#df_phiKK"
   ]
  },
  {
   "cell_type": "code",
   "execution_count": 14,
   "id": "9a53c451",
   "metadata": {},
   "outputs": [],
   "source": [
    "# Read header file\n",
    "with open(\"header.txt\", \"r\") as file:\n",
    "    Hlines = file.readlines()\n",
    "\n",
    "# Update entry about number of events in the header\n",
    "Hlines[531] = '#  Number of Events        :       '+str(len(df_phiKK))+'\\n'\n",
    "#Hlines[559] = '#  Number of Events        :       '+str(len(df_phiKK))+'\\n'\n",
    "\n",
    "\n",
    "# Add header to the output file\n",
    "file = open(fluka_dir+'phi.lhe', \"w\")\n",
    "\n",
    "for line in Hlines:\n",
    "    file.write(line)"
   ]
  },
  {
   "cell_type": "code",
   "execution_count": 15,
   "id": "f41f3732",
   "metadata": {},
   "outputs": [],
   "source": [
    "# Write the body of the LHE file\n",
    "\n",
    "rscale = 1.740000e+02\n",
    "alpha_EM = 7.297353e-03  # Fine-structure constant\n",
    "alpha_QCD = 1.078706E-01\n",
    "beam_energy = 4.5\n",
    "\n",
    "\n",
    "file.write(f\"\\n\")\n",
    "\n",
    "file.write(f\"<init>\\n\")\n",
    "file.write(f\"{11} {623} {beam_energy:.6e} {rscale:.6e} {0} {0} {0} {0} {0} {1}\\n\")\n",
    "file.write(\"0 0 0 1\\n\")\n",
    "file.write(f\"</init>\\n\")\n",
    "\n",
    "\n",
    "# Loop through the DataFrame and write the lines to the file\n",
    "for index, row in df_phiKK.iterrows():\n",
    "    file.write(f\"<event>\\n\")\n",
    "    file.write(f\"{row['NoSecondary']:>2}{1:>7} {0} {rscale:.8e} {alpha_EM:.8e} {alpha_QCD:.8e} \\n\")\n",
    "    #Calculate beam electron after 1st gen interaction\n",
    "    #file.write(f\"{11:>9}{1:>3}{0:>5}{0:>5}{0:>5}{0:>5}{-row.ProjkE*row.ProjdirX:>+18.10e}{-row.ProjkE*row.ProjdirY:>+18.10e}{beam_energy-row.ProjkE*row.ProjdirZ:>+18.10e}{beam_energy-row.ProjkE:>17.10e}{5.11E-4:>17.10e}{0:>11.4e} {1:>.4e}\\n\")\n",
    "    for PDG_ID, P, x, y, z, m, c in zip(row.PDG_IDs,row.Ps,row.Xs,row.Ys,row.Zs, row.Sec_mass, row.Sec_charge):\n",
    "        if m != 0:  #If it's not a Photon E= m/sqrt(1-P^2/(P^2 + m^2))\n",
    "            file.write(f\"{PDG_ID:>9}{1:>3}{0:>5}{0:>5}{0:>5}{0:>5}{P*x:>+18.10e}{P*y:>+18.10e}{P*z:>+18.10e}{m/np.sqrt(1-P**2/(m**2+P**2)):>17.10e}{m:>17.10e}{0:>11.4e} {0:>.4e}\\n\")\n",
    "        else:       #If it is a Photon E = P \n",
    "            file.write(f\"{PDG_ID:>9}{1:>3}{0:>5}{0:>5}{0:>5}{0:>5}{P*x:>+18.10e}{P*y:>+18.10e}{P*z:>+18.10e}{P:>17.10e}{m:>17.10e}{0:>11.4e} {0:>.4e}\\n\")\n",
    "\n",
    "\n",
    "    file.write(f\"</event>\\n\")\n",
    "\n",
    "file.write(f\"</LesHouchesEvents>\")\n",
    "file.close()\n"
   ]
  },
  {
   "cell_type": "code",
   "execution_count": null,
   "id": "c31b2e7c",
   "metadata": {},
   "outputs": [],
   "source": []
  }
 ],
 "metadata": {
  "kernelspec": {
   "display_name": "base",
   "language": "python",
   "name": "python3"
  },
  "language_info": {
   "codemirror_mode": {
    "name": "ipython",
    "version": 3
   },
   "file_extension": ".py",
   "mimetype": "text/x-python",
   "name": "python",
   "nbconvert_exporter": "python",
   "pygments_lexer": "ipython3",
   "version": "3.12.7"
  }
 },
 "nbformat": 4,
 "nbformat_minor": 5
}
