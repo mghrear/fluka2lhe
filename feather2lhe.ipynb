{
 "cells": [
  {
   "cell_type": "code",
   "execution_count": 1,
   "id": "0f1e91cb",
   "metadata": {},
   "outputs": [],
   "source": [
    "import numpy as np\n",
    "import pandas as pd \n",
    "import matplotlib.pyplot as plt\n",
    "import Fluka_dump_tools as fdt\n"
   ]
  },
  {
   "cell_type": "code",
   "execution_count": 2,
   "id": "9fd33c72",
   "metadata": {},
   "outputs": [],
   "source": [
    "N_files = 50\n",
    "Energy = 3740\n",
    "Rseed = 1\n",
    "\n",
    "fluka_dir = '/Users/mghrear/Lab/HPS/fluka/'+str(Energy)+'MeV_userdump_s'+str(Rseed)+'/'"
   ]
  },
  {
   "cell_type": "code",
   "execution_count": 3,
   "id": "a65d637c",
   "metadata": {},
   "outputs": [
    {
     "data": {
      "text/html": [
       "<div>\n",
       "<style scoped>\n",
       "    .dataframe tbody tr th:only-of-type {\n",
       "        vertical-align: middle;\n",
       "    }\n",
       "\n",
       "    .dataframe tbody tr th {\n",
       "        vertical-align: top;\n",
       "    }\n",
       "\n",
       "    .dataframe thead th {\n",
       "        text-align: right;\n",
       "    }\n",
       "</style>\n",
       "<table border=\"1\" class=\"dataframe\">\n",
       "  <thead>\n",
       "    <tr style=\"text-align: right;\">\n",
       "      <th></th>\n",
       "      <th>ProjID</th>\n",
       "      <th>ProjkE</th>\n",
       "      <th>ProjdirX</th>\n",
       "      <th>ProjdirY</th>\n",
       "      <th>ProjdirZ</th>\n",
       "      <th>Gen_No</th>\n",
       "      <th>IntID</th>\n",
       "      <th>NoSecondary</th>\n",
       "      <th>IDs</th>\n",
       "      <th>Ps</th>\n",
       "      <th>Xs</th>\n",
       "      <th>Ys</th>\n",
       "      <th>Zs</th>\n",
       "    </tr>\n",
       "  </thead>\n",
       "  <tbody>\n",
       "    <tr>\n",
       "      <th>0</th>\n",
       "      <td>7</td>\n",
       "      <td>3.363326</td>\n",
       "      <td>-0.000027</td>\n",
       "      <td>-0.000457</td>\n",
       "      <td>1.0</td>\n",
       "      <td>2</td>\n",
       "      <td>101</td>\n",
       "      <td>4</td>\n",
       "      <td>[8, 16, 15, 7]</td>\n",
       "      <td>[2.0863241346933203, 1.3959766266633853, 0.181...</td>\n",
       "      <td>[0.20282054899916518, -0.3893057108339896, 0.7...</td>\n",
       "      <td>[0.017216074199942085, -0.06061276473970396, 0...</td>\n",
       "      <td>[0.9790645697260315, 0.9191121565198946, -0.25...</td>\n",
       "    </tr>\n",
       "    <tr>\n",
       "      <th>1</th>\n",
       "      <td>7</td>\n",
       "      <td>3.450865</td>\n",
       "      <td>-0.000203</td>\n",
       "      <td>0.000725</td>\n",
       "      <td>1.0</td>\n",
       "      <td>2</td>\n",
       "      <td>101</td>\n",
       "      <td>35</td>\n",
       "      <td>[16, 15, 8, 1, 1, 8, 8, 1, 8, 8, 8, 8, 8, 1, 8...</td>\n",
       "      <td>[0.6508387294814963, 0.1807570242980634, 1.064...</td>\n",
       "      <td>[0.70690644679263, 0.5083894583643068, -0.4823...</td>\n",
       "      <td>[0.2443602653654536, -0.30839783505905133, 0.6...</td>\n",
       "      <td>[0.6637554792192254, 0.8040092872317688, 0.575...</td>\n",
       "    </tr>\n",
       "    <tr>\n",
       "      <th>2</th>\n",
       "      <td>7</td>\n",
       "      <td>3.249103</td>\n",
       "      <td>0.000220</td>\n",
       "      <td>-0.000419</td>\n",
       "      <td>1.0</td>\n",
       "      <td>2</td>\n",
       "      <td>101</td>\n",
       "      <td>23</td>\n",
       "      <td>[16, 15, 13, 8, 8, 8, 8, 8, 8, 8, 8, 8, 8, 8, ...</td>\n",
       "      <td>[0.4692945871216088, 0.9553241173577816, 0.337...</td>\n",
       "      <td>[-0.6240857354628896, 0.5391874724649572, 0.71...</td>\n",
       "      <td>[0.7348041227748018, -0.4408279534772031, 0.69...</td>\n",
       "      <td>[0.26566877111338877, 0.7175984845092357, 0.03...</td>\n",
       "    </tr>\n",
       "    <tr>\n",
       "      <th>3</th>\n",
       "      <td>7</td>\n",
       "      <td>3.440547</td>\n",
       "      <td>-0.000082</td>\n",
       "      <td>0.000113</td>\n",
       "      <td>1.0</td>\n",
       "      <td>2</td>\n",
       "      <td>101</td>\n",
       "      <td>12</td>\n",
       "      <td>[16, 1, 15, 1, 8, 8, 8, 8, 8, 8, 8, 7]</td>\n",
       "      <td>[1.8321739850382024, 1.2791127581238353, 0.545...</td>\n",
       "      <td>[0.0032125559323020704, 0.06758609404678512, -...</td>\n",
       "      <td>[-0.19374192630578702, -0.37186128179242744, 0...</td>\n",
       "      <td>[0.9810472697458084, 0.9258246632031315, 0.384...</td>\n",
       "    </tr>\n",
       "    <tr>\n",
       "      <th>4</th>\n",
       "      <td>7</td>\n",
       "      <td>3.733681</td>\n",
       "      <td>0.000085</td>\n",
       "      <td>0.000229</td>\n",
       "      <td>1.0</td>\n",
       "      <td>2</td>\n",
       "      <td>101</td>\n",
       "      <td>10</td>\n",
       "      <td>[8, 13, 16, 15, 8, 8, 8, 8, 8, 8]</td>\n",
       "      <td>[0.6783147735316747, 0.5770923070076501, 1.150...</td>\n",
       "      <td>[-0.42645305886079027, -0.32587806456087137, 0...</td>\n",
       "      <td>[-0.5278888128642256, 0.15314610847421256, 0.2...</td>\n",
       "      <td>[0.7344870249644128, 0.9329253756315481, 0.936...</td>\n",
       "    </tr>\n",
       "  </tbody>\n",
       "</table>\n",
       "</div>"
      ],
      "text/plain": [
       "   ProjID    ProjkE  ProjdirX  ProjdirY  ProjdirZ  Gen_No  IntID  NoSecondary  \\\n",
       "0       7  3.363326 -0.000027 -0.000457       1.0       2    101            4   \n",
       "1       7  3.450865 -0.000203  0.000725       1.0       2    101           35   \n",
       "2       7  3.249103  0.000220 -0.000419       1.0       2    101           23   \n",
       "3       7  3.440547 -0.000082  0.000113       1.0       2    101           12   \n",
       "4       7  3.733681  0.000085  0.000229       1.0       2    101           10   \n",
       "\n",
       "                                                 IDs  \\\n",
       "0                                     [8, 16, 15, 7]   \n",
       "1  [16, 15, 8, 1, 1, 8, 8, 1, 8, 8, 8, 8, 8, 1, 8...   \n",
       "2  [16, 15, 13, 8, 8, 8, 8, 8, 8, 8, 8, 8, 8, 8, ...   \n",
       "3             [16, 1, 15, 1, 8, 8, 8, 8, 8, 8, 8, 7]   \n",
       "4                  [8, 13, 16, 15, 8, 8, 8, 8, 8, 8]   \n",
       "\n",
       "                                                  Ps  \\\n",
       "0  [2.0863241346933203, 1.3959766266633853, 0.181...   \n",
       "1  [0.6508387294814963, 0.1807570242980634, 1.064...   \n",
       "2  [0.4692945871216088, 0.9553241173577816, 0.337...   \n",
       "3  [1.8321739850382024, 1.2791127581238353, 0.545...   \n",
       "4  [0.6783147735316747, 0.5770923070076501, 1.150...   \n",
       "\n",
       "                                                  Xs  \\\n",
       "0  [0.20282054899916518, -0.3893057108339896, 0.7...   \n",
       "1  [0.70690644679263, 0.5083894583643068, -0.4823...   \n",
       "2  [-0.6240857354628896, 0.5391874724649572, 0.71...   \n",
       "3  [0.0032125559323020704, 0.06758609404678512, -...   \n",
       "4  [-0.42645305886079027, -0.32587806456087137, 0...   \n",
       "\n",
       "                                                  Ys  \\\n",
       "0  [0.017216074199942085, -0.06061276473970396, 0...   \n",
       "1  [0.2443602653654536, -0.30839783505905133, 0.6...   \n",
       "2  [0.7348041227748018, -0.4408279534772031, 0.69...   \n",
       "3  [-0.19374192630578702, -0.37186128179242744, 0...   \n",
       "4  [-0.5278888128642256, 0.15314610847421256, 0.2...   \n",
       "\n",
       "                                                  Zs  \n",
       "0  [0.9790645697260315, 0.9191121565198946, -0.25...  \n",
       "1  [0.6637554792192254, 0.8040092872317688, 0.575...  \n",
       "2  [0.26566877111338877, 0.7175984845092357, 0.03...  \n",
       "3  [0.9810472697458084, 0.9258246632031315, 0.384...  \n",
       "4  [0.7344870249644128, 0.9329253756315481, 0.936...  "
      ]
     },
     "execution_count": 3,
     "metadata": {},
     "output_type": "execute_result"
    }
   ],
   "source": [
    "# Convert fluka dump files into pandas dataframes\n",
    "fdt.FlukaDump_toPandas(fluka_dir, N_files, Energy)\n",
    "\n",
    "#loop through saved pkl files and append them to a single DataFrame\n",
    "df = pd.DataFrame()\n",
    "for i in np.arange(1,N_files+1,1):\n",
    "    i = str(i).zfill(3)\n",
    "    file_name = fluka_dir+\"phiKK_\"+str(Energy)+ i + \".pkl\"\n",
    "    temp_df = pd.read_pickle(file_name)\n",
    "    df = pd.concat([df, temp_df], ignore_index=True)\n",
    "df.head()"
   ]
  },
  {
   "cell_type": "code",
   "execution_count": 4,
   "id": "a0965138",
   "metadata": {},
   "outputs": [],
   "source": [
    "# Keep only 2nd gen events, starting with a photon, with one K+ and one K- secondaries\n",
    "df['Kflag'] = df.IDs.apply(lambda x: np.count_nonzero(x == 16) == 1)\n",
    "df['Kflag2'] = df.IDs.apply(lambda x: np.count_nonzero(x == 15) == 1)\n",
    "df_phiKK = df.loc[(df.Kflag == True)&(df.Kflag2 == True) &(df.Gen_No == 2)&(df.ProjID == 7)  ].reset_index(drop=True)\n"
   ]
  },
  {
   "cell_type": "code",
   "execution_count": 5,
   "id": "10b4f99e",
   "metadata": {},
   "outputs": [],
   "source": [
    "# mass of kaon\n",
    "mK = 0.493677\n",
    "\n",
    "# Get the momentum and energy of the kaons\n",
    "df_phiKK['PKm'] = df_phiKK.apply(lambda row: np.array([row.Xs[row.IDs == 16].item(),row.Ys[row.IDs == 16].item(),row.Zs[row.IDs == 16].item()])*row.Ps[row.IDs == 16].item() , axis=1)\n",
    "df_phiKK['PKp'] = df_phiKK.apply(lambda row: np.array([row.Xs[row.IDs == 15].item(),row.Ys[row.IDs == 15].item(),row.Zs[row.IDs == 15].item()])*row.Ps[row.IDs == 15].item() , axis=1)\n",
    "df_phiKK['EKm'] = df_phiKK.apply(lambda row: mK/np.sqrt(1-( row.Ps[row.IDs == 16].item()**2 / ( mK**2 + row.Ps[row.IDs == 16].item()**2 ) )) , axis=1)\n",
    "df_phiKK['EKp'] = df_phiKK.apply(lambda row: mK/np.sqrt(1-( row.Ps[row.IDs == 15].item()**2 / ( mK**2 + row.Ps[row.IDs == 15].item()**2 ) )) , axis=1)\n",
    "\n",
    "# Calculate the invariant mass \n",
    "df_phiKK['M']= df_phiKK.apply(lambda row: np.sqrt((row.EKp+row.EKm)**2 - (row.PKm+row.PKp).dot(row.PKm+row.PKp)) , axis=1)\n",
    "\n"
   ]
  },
  {
   "cell_type": "code",
   "execution_count": 6,
   "id": "09adc171",
   "metadata": {},
   "outputs": [
    {
     "data": {
      "text/plain": [
       "Text(0, 0.5, 'Counts')"
      ]
     },
     "execution_count": 6,
     "metadata": {},
     "output_type": "execute_result"
    },
    {
     "data": {
      "image/png": "[encoded data removed]",
      "text/plain": [
       "<Figure size 640x480 with 1 Axes>"
      ]
     },
     "metadata": {},
     "output_type": "display_data"
    }
   ],
   "source": [
    "# mass of the phi meson\n",
    "m_phi = 1.019455\n",
    "\n",
    "df_phiKK.M.hist(bins=np.arange(0.95, 1.5, 0.003), edgecolor='black', linewidth=0.5, alpha=0.7)\n",
    "plt.axvline(m_phi, color='red', linestyle='dashed', linewidth=1, label='m_phi = 1.019455 GeV/c^2')\n",
    "plt.legend()\n",
    "plt.xlabel(\"Invariant Mass (GeV/c^2)\")\n",
    "plt.ylabel(\"Counts\") \n"
   ]
  },
  {
   "cell_type": "code",
   "execution_count": 7,
   "id": "674f211f",
   "metadata": {},
   "outputs": [
    {
     "data": {
      "text/plain": [
       "Text(0, 0.5, 'Counts')"
      ]
     },
     "execution_count": 7,
     "metadata": {},
     "output_type": "execute_result"
    },
    {
     "data": {
      "image/png": "[encoded data removed]",
      "text/plain": [
       "<Figure size 640x480 with 1 Axes>"
      ]
     },
     "metadata": {},
     "output_type": "display_data"
    }
   ],
   "source": [
    "df_phiKK_cut = df_phiKK.loc[(df_phiKK.M > 1.00391) & (df_phiKK.M < 1.035)].reset_index(drop=True)\n",
    "\n",
    "df_phiKK_cut.M.hist(bins=np.arange(0.95, 1.1, 0.001), edgecolor='black', linewidth=0.5, alpha=0.7)\n",
    "plt.axvline(m_phi, color='red', linestyle='dashed', linewidth=1, label='m_phi = 1.019455 GeV/c^2')\n",
    "plt.legend()\n",
    "plt.xlabel(\"Invariant Mass (GeV/c^2)\")\n",
    "plt.ylabel(\"Counts\") "
   ]
  },
  {
   "cell_type": "code",
   "execution_count": 8,
   "id": "3a08da33",
   "metadata": {},
   "outputs": [],
   "source": [
    "df_phiKK_cut[\"PPhi\"]=df_phiKK_cut.apply(lambda row: row.PKm+row.PKp, axis=1)\n",
    "df_phiKK_cut[\"EPhi\"]=df_phiKK_cut.apply(lambda row: row.EKm+row.EKp, axis=1)"
   ]
  },
  {
   "cell_type": "code",
   "execution_count": 9,
   "id": "63d5e8c5",
   "metadata": {},
   "outputs": [
    {
     "data": {
      "text/plain": [
       "Text(0, 0.5, 'counts')"
      ]
     },
     "execution_count": 9,
     "metadata": {},
     "output_type": "execute_result"
    },
    {
     "data": {
      "image/png": "[encoded data removed]",
      "text/plain": [
       "<Figure size 640x480 with 1 Axes>"
      ]
     },
     "metadata": {},
     "output_type": "display_data"
    }
   ],
   "source": [
    "df_phiKK_cut.EPhi.hist(bins =  np.arange(0.9,4.8,0.1), edgecolor='black', linewidth=0.5, alpha=0.7)\n",
    "plt.xlabel(\"Phi Energy [GeV]\")\n",
    "plt.ylabel(\"counts\")"
   ]
  },
  {
   "cell_type": "code",
   "execution_count": 10,
   "id": "e6990bc3",
   "metadata": {},
   "outputs": [],
   "source": [
    "# Get all the fluka IDs for the secondary particles\n",
    "unique_fluka_ids_df = df_phiKK_cut.explode('IDs')['IDs'].unique()\n",
    "\n",
    "\n",
    "keys_view = fdt.flukaIDdict.keys()  # Get the view object\n",
    "keys_list = np.array(list(keys_view))\n",
    "\n",
    "missing_keys = np.setdiff1d(unique_fluka_ids_df, keys_list)\n",
    "\n",
    "if len(missing_keys) > 0:\n",
    "    print(\"Error add the following fluka IDs to flukaIDdict: \", missing_keys)\n",
    "\n",
    "else:\n",
    "    # Apply the conversion and create new columns\n",
    "    df_phiKK_cut[['PDG_IDs', 'Sec_mass', 'Sec_charge']] = df_phiKK_cut['IDs'].apply(fdt.convert_fluka_ids).apply(pd.Series)"
   ]
  },
  {
   "cell_type": "code",
   "execution_count": 11,
   "id": "58c6c284",
   "metadata": {},
   "outputs": [],
   "source": [
    "def write_lhe(df, fluka_dir, header_file=\"header.txt\", include_recoil_e = False, include_other_secondaries = False):\n",
    "\n",
    "\n",
    "    # Create lhe file and add header\n",
    "    file = open(fluka_dir+'phi.lhe', \"w\")\n",
    "\n",
    "\n",
    "    rscale = 1.740000e+02\n",
    "    alpha_EM = 7.297353e-03  # Fine-structure constant\n",
    "    alpha_QCD = 1.078706E-01\n",
    "    beam_energy = 4.5\n",
    "\n",
    "    #Write header \n",
    "    file.write(f\"\\n\")\n",
    "\n",
    "    file.write(f\"<LesHouchesEvents version=\\\"3.0\\\">\\n\")\n",
    "    file.write(f\"<header>\\n\")\n",
    "    file.write(f\"#  Number of Events        :       \"+str(len(df))+\"\\n\")\n",
    "    file.write(f\"</header>\\n\")\n",
    "\n",
    "    # Write the body of the LHE file\n",
    "    file.write(f\"<init>\\n\")\n",
    "    file.write(f\"{11} {623} {beam_energy:.6e} {rscale:.6e} {0} {0} {0} {0} {0} {1}\\n\")\n",
    "    file.write(\"0 0 0 1\\n\")\n",
    "    file.write(f\"</init>\\n\")\n",
    "\n",
    "\n",
    "    # Loop through the DataFrame and write the lines to the file\n",
    "    for index, row in df.iterrows():\n",
    "\n",
    "        # Start event block\n",
    "        file.write(f\"<event>\\n\")\n",
    "\n",
    "\n",
    "        if include_other_secondaries and include_recoil_e:\n",
    "            file.write(f\"{1+row['NoSecondary']:>2}{1:>7} {0} {rscale:.8e} {alpha_EM:.8e} {alpha_QCD:.8e} \\n\")\n",
    "        elif include_other_secondaries and (include_recoil_e == False):\n",
    "            file.write(f\"{row['NoSecondary']:>2}{1:>7} {0} {rscale:.8e} {alpha_EM:.8e} {alpha_QCD:.8e} \\n\")\n",
    "        elif (include_other_secondaries == False) and (include_recoil_e):\n",
    "            file.write(f\"{3:>2}{1:>7} {0} {rscale:.8e} {alpha_EM:.8e} {alpha_QCD:.8e} \\n\")\n",
    "        else:\n",
    "            file.write(f\"{2:>2}{1:>7} {0} {rscale:.8e} {alpha_EM:.8e} {alpha_QCD:.8e} \\n\")\n",
    "\n",
    "        # Include recoil electron if specified\n",
    "        if include_recoil_e:\n",
    "            file.write(f\"{11:>9}{1:>3}{0:>5}{0:>5}{0:>5}{0:>5}{-row.ProjkE*row.ProjdirX:>+18.10e}{-row.ProjkE*row.ProjdirY:>+18.10e}{beam_energy-row.ProjkE*row.ProjdirZ:>+18.10e}{beam_energy-row.ProjkE:>17.10e}{5.11E-4:>17.10e}{0:>11.4e} {1:>.4e}\\n\")\n",
    "\n",
    "        # Now include the secondaries\n",
    "        for PDG_ID, P, x, y, z, m, c in zip(row.PDG_IDs,row.Ps,row.Xs,row.Ys,row.Zs, row.Sec_mass, row.Sec_charge):\n",
    "\n",
    "            # Inlcude all secondaries if specified\n",
    "            if include_other_secondaries:\n",
    "                if m != 0:  #If it's not a Photon E= m/sqrt(1-P^2/(P^2 + m^2))\n",
    "                    file.write(f\"{PDG_ID:>9}{1:>3}{0:>5}{0:>5}{0:>5}{0:>5}{P*x:>+18.10e}{P*y:>+18.10e}{P*z:>+18.10e}{m/np.sqrt(1-P**2/(m**2+P**2)):>17.10e}{m:>17.10e}{0:>11.4e} {0:>.4e}\\n\")\n",
    "                else:       #If it is a Photon E = P \n",
    "                    file.write(f\"{PDG_ID:>9}{1:>3}{0:>5}{0:>5}{0:>5}{0:>5}{P*x:>+18.10e}{P*y:>+18.10e}{P*z:>+18.10e}{P:>17.10e}{m:>17.10e}{0:>11.4e} {0:>.4e}\\n\")\n",
    "            \n",
    "            # Otherwise only include the charged kaons\n",
    "            elif (PDG_ID == 321) or (PDG_ID == -321):\n",
    "                file.write(f\"{PDG_ID:>9}{1:>3}{0:>5}{0:>5}{0:>5}{0:>5}{P*x:>+18.10e}{P*y:>+18.10e}{P*z:>+18.10e}{m/np.sqrt(1-P**2/(m**2+P**2)):>17.10e}{m:>17.10e}{0:>11.4e} {0:>.4e}\\n\")\n",
    "\n",
    "        # end event block\n",
    "        file.write(f\"</event>\\n\")\n",
    "\n",
    "    file.write(f\"</LesHouchesEvents>\")\n",
    "    file.close()\n",
    "    print(f\"LHE file written to {fluka_dir}phi.lhe\")\n"
   ]
  },
  {
   "cell_type": "code",
   "execution_count": 12,
   "id": "97cc524e",
   "metadata": {},
   "outputs": [],
   "source": [
    "#df_phiKK_cut = df_phiKK_cut.loc[ df_phiKK_cut.NoSecondary ==2 ].reset_index(drop=True)  "
   ]
  },
  {
   "cell_type": "code",
   "execution_count": 13,
   "id": "4b62356b",
   "metadata": {},
   "outputs": [
    {
     "name": "stdout",
     "output_type": "stream",
     "text": [
      "LHE file written to /Users/mghrear/Lab/HPS/fluka/3740MeV_userdump_s1/phi.lhe\n"
     ]
    }
   ],
   "source": [
    "write_lhe(df_phiKK_cut, fluka_dir, header_file=\"header.txt\", include_recoil_e = True, include_other_secondaries = True)"
   ]
  }
 ],
 "metadata": {
  "kernelspec": {
   "display_name": "base",
   "language": "python",
   "name": "python3"
  },
  "language_info": {
   "codemirror_mode": {
    "name": "ipython",
    "version": 3
   },
   "file_extension": ".py",
   "mimetype": "text/x-python",
   "name": "python",
   "nbconvert_exporter": "python",
   "pygments_lexer": "ipython3",
   "version": "3.12.7"
  }
 },
 "nbformat": 4,
 "nbformat_minor": 5
}
